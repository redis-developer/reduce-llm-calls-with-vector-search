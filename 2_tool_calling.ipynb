{
 "cells": [
  {
   "metadata": {},
   "cell_type": "markdown",
   "source": [
    "# Tool Calling\n",
    "\n",
    "Tool calling (also known as function calling) is a pattern where AI systems determine which tools or functions to execute based on user input. The most common modern approach uses large language models (LLMs) to analyze user requests and decide which functions to call.\n",
    "\n",
    "## Semantic Tool Calling vs. LLM Tool Calling\n",
    "\n",
    "**LLM-based tool calling** involves sending user queries to models like GPT-4 or Claude with function definitions, letting the LLM decide which tools to use:\n",
    "- **Cost per request**: Each decision requires an API call\n",
    "- **Latency**: Network round-trips add delay to every tool selection\n",
    "\n",
    "**Semantic tool calling** uses vector embeddings and similarity matching to route queries to appropriate tools:\n",
    "- **Speed**: Near-instantaneous tool selection through vector similarity\n",
    "- **Cost-effective**: No API costs after initial setup\n",
    "\n",
    "## How Semantic Tool Calling Works\n",
    "\n",
    "1. **Define routes**: Create semantic routes for each tool with example user phrases\n",
    "2. **Set thresholds**: Configure similarity requirements for route matching\n",
    "3. **Route instantly**: Vector similarity determines the best tool match\n",
    "4. **Execute**: Trigger the appropriate function based on semantic similarity\n",
    "\n",
    "In this notebook, we'll implement semantic tool calling using RedisVL to route user queries to weather, FAQ, and notification tools - demonstrating a fast, cost-effective alternative to LLM-based tool selection."
   ],
   "id": "8a77807f92f26ee"
  },
  {
   "metadata": {},
   "cell_type": "markdown",
   "source": [
    "## Installing dependencies\n",
    "We'll need two main libraries for this semantic classification example:\n",
    "\n",
    "RedisVL - A Python library that provides vector database capabilities and semantic routing functionality on top of Redis. RedisVL handles the vector storage, similarity search, and routing logic that powers our semantic classifier.\n",
    "\n",
    "HuggingFace Sentence Transformers - A library that provides pre-trained models for converting text into high-quality sentence embeddings. These models have been specifically trained to capture semantic meaning, making them ideal for similarity-based classification tasks.\n",
    "\n",
    "The sentence transformers library will automatically download the embedding model on first use. We're using a lightweight model (all-MiniLM-L6-v2) that provides good performance while being fast enough for real-time classification."
   ],
   "id": "44b6eb2447a602a0"
  },
  {
   "metadata": {
    "ExecuteTime": {
     "end_time": "2025-09-30T07:09:00.799647Z",
     "start_time": "2025-09-30T07:09:00.156260Z"
    }
   },
   "cell_type": "code",
   "source": "%pip install -q \"redisvl>=0.8.2\" sentence-transformers",
   "id": "173931dbd592f8ed",
   "outputs": [
    {
     "name": "stdout",
     "output_type": "stream",
     "text": [
      "Note: you may need to restart the kernel to use updated packages.\n"
     ]
    }
   ],
   "execution_count": 1
  },
  {
   "metadata": {},
   "cell_type": "markdown",
   "source": [
    "## Setting up the Text Vectorizer\n",
    "\n",
    "The vectorizer is responsible for converting text into numerical vector representations that capture semantic meaning. RedisVL provides several vectorizer options such as OpenAI and VertexAI. We're using the HuggingFace Text Vectorizer for this example."
   ],
   "id": "c6cfcf79313384ad"
  },
  {
   "metadata": {
    "ExecuteTime": {
     "end_time": "2025-09-30T07:09:08.561640Z",
     "start_time": "2025-09-30T07:09:03.354466Z"
    }
   },
   "cell_type": "code",
   "source": [
    "from redisvl.utils.vectorize import HFTextVectorizer\n",
    "\n",
    "vectorizer = HFTextVectorizer()"
   ],
   "id": "9cd173312cfc6ea6",
   "outputs": [
    {
     "name": "stderr",
     "output_type": "stream",
     "text": [
      "/Users/raphaeldelio/reduce-llm-calls-with-vector-search/.venv/lib/python3.13/site-packages/tqdm/auto.py:21: TqdmWarning: IProgress not found. Please update jupyter and ipywidgets. See https://ipywidgets.readthedocs.io/en/stable/user_install.html\n",
      "  from .autonotebook import tqdm as notebook_tqdm\n"
     ]
    },
    {
     "name": "stdout",
     "output_type": "stream",
     "text": [
      "09:09:04 numexpr.utils INFO   NumExpr defaulting to 11 threads.\n",
      "09:09:06 sentence_transformers.SentenceTransformer INFO   Use pytorch device_name: mps\n",
      "09:09:06 sentence_transformers.SentenceTransformer INFO   Load pretrained SentenceTransformer: sentence-transformers/all-mpnet-base-v2\n"
     ]
    }
   ],
   "execution_count": 2
  },
  {
   "metadata": {},
   "cell_type": "markdown",
   "source": [
    "## Defining Tool Routes\n",
    "\n",
    "Each route represents a specific tool or function that users might want to access. We define routes by providing example phrases that represent different ways users might express the same intent."
   ],
   "id": "76b0a42c70d21726"
  },
  {
   "metadata": {
    "ExecuteTime": {
     "end_time": "2025-09-30T07:09:30.126484Z",
     "start_time": "2025-09-30T07:09:30.106799Z"
    }
   },
   "cell_type": "code",
   "source": [
    "from redisvl.extensions.router import Route, SemanticRouter\n",
    "\n",
    "get_weather_route = Route(\n",
    "    name=\"get_weather_route\",\n",
    "    references=[\n",
    "        \"What's the weather like?\",\n",
    "        \"What's the weather today?\",\n",
    "        \"Will it rain today?\",\n",
    "        \"Is it raining?\",\n",
    "    ],\n",
    "    distance_threshold=0.3\n",
    ")\n",
    "\n",
    "faq_route = Route(\n",
    "    name=\"faq_route\",\n",
    "    references=[\n",
    "        \"What can you do?\",\n",
    "        \"What are you capable of?\",\n",
    "        \"What problems can you solve?\",\n",
    "        \"How can you help me?\",\n",
    "    ],\n",
    "    distance_threshold=0.3\n",
    ")\n",
    "\n",
    "notifications_route = Route(\n",
    "    name=\"notifications_route\",\n",
    "    references=[\n",
    "        \"Do I have any notifications?\",\n",
    "        \"Read my notifications\",\n",
    "        \"Have I got notifications?\",\n",
    "    ],\n",
    "    distance_threshold=0.3\n",
    ")"
   ],
   "id": "4aef3e7b4b0c369d",
   "outputs": [],
   "execution_count": 3
  },
  {
   "metadata": {},
   "cell_type": "markdown",
   "source": [
    "## Creating the Semantic Router\n",
    "\n",
    "The SemanticRouter is the central component that orchestrates the classification process. It combines your routes, vectorizer, and Redis storage to provide fast semantic classification capabilities."
   ],
   "id": "b12057bab5b4bef3"
  },
  {
   "metadata": {
    "ExecuteTime": {
     "end_time": "2025-09-30T07:09:35.625238Z",
     "start_time": "2025-09-30T07:09:35.448456Z"
    }
   },
   "cell_type": "code",
   "source": [
    "tool_calling_router = SemanticRouter(\n",
    "    name=\"tool_calling_router\",\n",
    "    vectorizer=vectorizer,\n",
    "    routes=[\n",
    "        get_weather_route,\n",
    "        faq_route,\n",
    "        notifications_route,\n",
    "    ],\n",
    "    overwrite=False,\n",
    ")"
   ],
   "id": "4ac9f4ca00b80365",
   "outputs": [],
   "execution_count": 4
  },
  {
   "metadata": {},
   "cell_type": "markdown",
   "source": "## Testing our semantic tool calling solution",
   "id": "19bba96a7b7f80c2"
  },
  {
   "metadata": {
    "ExecuteTime": {
     "end_time": "2025-09-30T07:09:44.957094Z",
     "start_time": "2025-09-30T07:09:44.883458Z"
    }
   },
   "cell_type": "code",
   "source": [
    "user_query = \"Do I have new notifications?\"\n",
    "\n",
    "route_match = tool_calling_router(user_query)\n",
    "\n",
    "route_match"
   ],
   "id": "8ee6ac87c26a09d1",
   "outputs": [
    {
     "data": {
      "text/plain": [
       "RouteMatch(name='notifications_route', distance=0.126499414444)"
      ]
     },
     "execution_count": 5,
     "metadata": {},
     "output_type": "execute_result"
    }
   ],
   "execution_count": 5
  },
  {
   "metadata": {
    "ExecuteTime": {
     "end_time": "2025-09-30T07:09:53.000311Z",
     "start_time": "2025-09-30T07:09:52.913880Z"
    }
   },
   "cell_type": "code",
   "source": [
    "user_query = \"Will it be sunny today?\"\n",
    "\n",
    "route_match = tool_calling_router(user_query)\n",
    "\n",
    "route_match"
   ],
   "id": "cc3c56bebbdcd06d",
   "outputs": [
    {
     "data": {
      "text/plain": [
       "RouteMatch(name='get_weather_route', distance=0.193976283073)"
      ]
     },
     "execution_count": 6,
     "metadata": {},
     "output_type": "execute_result"
    }
   ],
   "execution_count": 6
  },
  {
   "metadata": {
    "ExecuteTime": {
     "end_time": "2025-09-30T07:09:58.785980Z",
     "start_time": "2025-09-30T07:09:58.731865Z"
    }
   },
   "cell_type": "code",
   "source": [
    "user_query = \"What tasks are you capable of?\"\n",
    "\n",
    "route_match = tool_calling_router(user_query)\n",
    "\n",
    "route_match"
   ],
   "id": "cac765f8f50795da",
   "outputs": [
    {
     "data": {
      "text/plain": [
       "RouteMatch(name='faq_route', distance=0.214198470116)"
      ]
     },
     "execution_count": 7,
     "metadata": {},
     "output_type": "execute_result"
    }
   ],
   "execution_count": 7
  },
  {
   "metadata": {
    "ExecuteTime": {
     "end_time": "2025-09-30T07:10:04.098261Z",
     "start_time": "2025-09-30T07:10:04.046607Z"
    }
   },
   "cell_type": "code",
   "source": [
    "user_query = \"Oktoberfest is great!\"\n",
    "\n",
    "route_match = tool_calling_router(user_query)\n",
    "\n",
    "route_match"
   ],
   "id": "9040c8680daa8920",
   "outputs": [
    {
     "data": {
      "text/plain": [
       "RouteMatch(name=None, distance=None)"
      ]
     },
     "execution_count": 8,
     "metadata": {},
     "output_type": "execute_result"
    }
   ],
   "execution_count": 8
  },
  {
   "metadata": {},
   "cell_type": "markdown",
   "source": "## Semantic Guardrails",
   "id": "e7ab3bd4b71e5c8c"
  },
  {
   "metadata": {
    "ExecuteTime": {
     "end_time": "2025-09-30T07:10:37.015581Z",
     "start_time": "2025-09-30T07:10:34.955688Z"
    }
   },
   "cell_type": "code",
   "source": [
    "from redisvl.extensions.router import Route, SemanticRouter\n",
    "from redisvl.utils.vectorize import HFTextVectorizer\n",
    "\n",
    "vectorizer = HFTextVectorizer()\n",
    "\n",
    "block_route = Route(\n",
    "    name=\"block_route\",\n",
    "    references=[\n",
    "        \"things about aliens\",\n",
    "        \"corporate questions about agile\",\n",
    "        \"anything about the S&P 500\",\n",
    "    ]\n",
    ")\n",
    "\n",
    "block_router = SemanticRouter(\n",
    "    name=\"block_router\",\n",
    "    vectorizer=vectorizer,\n",
    "    routes=[\n",
    "        block_route\n",
    "    ],\n",
    "    overwrite=True,\n",
    ")"
   ],
   "id": "25f784f9e0cb5489",
   "outputs": [
    {
     "name": "stdout",
     "output_type": "stream",
     "text": [
      "09:10:34 sentence_transformers.SentenceTransformer INFO   Use pytorch device_name: mps\n",
      "09:10:34 sentence_transformers.SentenceTransformer INFO   Load pretrained SentenceTransformer: sentence-transformers/all-mpnet-base-v2\n"
     ]
    }
   ],
   "execution_count": 9
  },
  {
   "metadata": {
    "ExecuteTime": {
     "end_time": "2025-09-30T07:10:41.900921Z",
     "start_time": "2025-09-30T07:10:41.848668Z"
    }
   },
   "cell_type": "code",
   "source": [
    "user_query = \"Is scrum a good framework?\"\n",
    "\n",
    "route_match = block_router(user_query)\n",
    "\n",
    "route_match"
   ],
   "id": "8944ca72488e99ea",
   "outputs": [
    {
     "data": {
      "text/plain": [
       "RouteMatch(name='block_route', distance=0.429593980312)"
      ]
     },
     "execution_count": 10,
     "metadata": {},
     "output_type": "execute_result"
    }
   ],
   "execution_count": 10
  },
  {
   "metadata": {
    "ExecuteTime": {
     "end_time": "2025-09-30T07:10:53.012410Z",
     "start_time": "2025-09-30T07:10:52.965146Z"
    }
   },
   "cell_type": "code",
   "source": [
    "user_query = \"What are you capable of?\"\n",
    "\n",
    "route_match = block_router(user_query)\n",
    "\n",
    "route_match"
   ],
   "id": "905c917d6a880b99",
   "outputs": [
    {
     "data": {
      "text/plain": [
       "RouteMatch(name=None, distance=None)"
      ]
     },
     "execution_count": 11,
     "metadata": {},
     "output_type": "execute_result"
    }
   ],
   "execution_count": 11
  }
 ],
 "metadata": {
  "kernelspec": {
   "display_name": "Python 3",
   "language": "python",
   "name": "python3"
  },
  "language_info": {
   "codemirror_mode": {
    "name": "ipython",
    "version": 2
   },
   "file_extension": ".py",
   "mimetype": "text/x-python",
   "name": "python",
   "nbconvert_exporter": "python",
   "pygments_lexer": "ipython2",
   "version": "2.7.6"
  }
 },
 "nbformat": 4,
 "nbformat_minor": 5
}
