{
 "cells": [
  {
   "metadata": {},
   "cell_type": "markdown",
   "source": [
    "# Semantic Classification\n",
    "\n",
    "Semantic classification is a machine learning technique that categorizes text based on its meaning using vector embeddings and similarity matching. This approach offers a compelling alternative to using large language models (LLMs) for classification tasks.\n",
    "\n",
    "## Semantic Classification vs. LLM Classification\n",
    "\n",
    "**LLM-based classification** involves sending text to models like GPT-4 or Claude with prompts asking them to categorize content. While powerful, this approach has several limitations:\n",
    "- **Cost**: API calls for every classification can be expensive at scale\n",
    "- **Latency**: Network requests and model inference add delay\n",
    "\n",
    "**Semantic classification** uses vector embeddings to represent text meaning numerically, then applies similarity thresholds to determine categories:\n",
    "- **Speed**: Near-instantaneous vector similarity calculations\n",
    "- **Cost-effective**: No API costs after initial setup\n",
    "\n",
    "## How It Works\n",
    "\n",
    "Text is converted into high-dimensional vectors that capture semantic meaning. Reference examples for each category are embedded, and new content is classified by measuring vector similarity. Content that falls within a defined distance threshold of category references gets classified accordingly.\n",
    "\n",
    "In this notebook, we'll build a semantic classifier using RedisVL to identify AI-related content, demonstrating an efficient alternative to LLM-based classification."
   ],
   "id": "8a77807f92f26ee"
  },
  {
   "metadata": {},
   "cell_type": "markdown",
   "source": [
    "## Installing dependencies\n",
    "\n",
    "We'll need two main libraries for this semantic classification example:\n",
    "\n",
    "**RedisVL** - A Python library that provides vector database capabilities and semantic routing functionality on top of Redis. RedisVL handles the vector storage, similarity search, and routing logic that powers our semantic classifier.\n",
    "\n",
    "**HuggingFace Sentence Transformers** - A library that provides pre-trained models for converting text into high-quality sentence embeddings. These models have been specifically trained to capture semantic meaning, making them ideal for similarity-based classification tasks.\n",
    "\n",
    "The sentence transformers library will automatically download the embedding model on first use. We're using a lightweight model (`all-MiniLM-L6-v2`) that provides good performance while being fast enough for real-time classification."
   ],
   "id": "82b24c4a4eaaae39"
  },
  {
   "metadata": {},
   "cell_type": "code",
   "source": "%pip install -q \"redisvl>=0.8.2\" sentence-transformers",
   "id": "86fec7b4712989b1",
   "outputs": [],
   "execution_count": null
  },
  {
   "metadata": {},
   "cell_type": "markdown",
   "source": [
    "## Setting up the Text Vectorizer\n",
    "\n",
    "The vectorizer is responsible for converting text into numerical vector representations that capture semantic meaning. RedisVL provides several vectorizer options such as OpenAI and VertexAI. We're using the HuggingFace Text Vectorizer for this example."
   ],
   "id": "ee7abbc80d755da4"
  },
  {
   "metadata": {},
   "cell_type": "code",
   "source": [
    "from redisvl.utils.vectorize import HFTextVectorizer\n",
    "\n",
    "vectorizer = HFTextVectorizer()"
   ],
   "id": "d900d6358fe7ca6",
   "outputs": [],
   "execution_count": null
  },
  {
   "metadata": {},
   "cell_type": "markdown",
   "source": [
    "## Loading references\n",
    "In this recipe, we're trying to classify posts that are related to artificial intelligence. In order to do so, we will vectorize a couple of hundred examples that have been previously generated for us."
   ],
   "id": "87893b010bba1c93"
  },
  {
   "metadata": {},
   "cell_type": "code",
   "source": [
    "with open('1_references.txt', 'r') as file:\n",
    "    artificial_intelligence_references = [line.strip() for line in file.readlines()]\n",
    "\n",
    "artificial_intelligence_references[:10]"
   ],
   "id": "143b03c226862dfe",
   "outputs": [],
   "execution_count": null
  },
  {
   "metadata": {},
   "cell_type": "markdown",
   "source": [
    "## Creating a route\n",
    "\n",
    "Now, let's create a route. A route is a classification category that defines what types of content should be grouped together based on semantic similarity. Each route contains:\n",
    "\n",
    "- **Reference examples**: Sample text that represents the category you want to classify\n",
    "- **Distance threshold**: How similar new text must be to the references to match the route\n",
    "- **Route name**: An identifier for this classification category"
   ],
   "id": "34ecf23ce50168bd"
  },
  {
   "metadata": {},
   "cell_type": "code",
   "source": [
    "from redisvl.extensions.router import Route, SemanticRouter\n",
    "\n",
    "artificial_intelligence_route = Route(\n",
    "    name=\"artificial_intelligence_references\",\n",
    "    references=artificial_intelligence_references,\n",
    "    distance_threshold=0.7\n",
    ")"
   ],
   "id": "4aef3e7b4b0c369d",
   "outputs": [],
   "execution_count": null
  },
  {
   "metadata": {},
   "cell_type": "markdown",
   "source": [
    "## Creating the Semantic Router\n",
    "\n",
    "The SemanticRouter is the central component that orchestrates the classification process. It combines your routes, vectorizer, and Redis storage to provide fast semantic classification capabilities.\n"
   ],
   "id": "70b6b89e758a489d"
  },
  {
   "metadata": {},
   "cell_type": "code",
   "source": [
    "classifier_router = SemanticRouter(\n",
    "    name=\"classifier\",\n",
    "    vectorizer=vectorizer,\n",
    "    routes=[artificial_intelligence_route],\n",
    "    overwrite=False,\n",
    ")"
   ],
   "id": "a9513eec816e77a9",
   "outputs": [],
   "execution_count": null
  },
  {
   "metadata": {},
   "cell_type": "markdown",
   "source": "## Testing our semantic classification solution",
   "id": "1f1f6d42ee4ea4dd"
  },
  {
   "metadata": {},
   "cell_type": "code",
   "source": [
    "user_query = \"Redis is a great tool for building applied AI systems because it works well as agent memory\"\n",
    "\n",
    "route_match = classifier_router(user_query)\n",
    "\n",
    "route_match"
   ],
   "id": "8ee6ac87c26a09d1",
   "outputs": [],
   "execution_count": null
  },
  {
   "metadata": {},
   "cell_type": "code",
   "source": [
    "user_query = \"Bavaria is a nice place to visit\"\n",
    "\n",
    "route_match = classifier_router(user_query)\n",
    "\n",
    "route_match"
   ],
   "id": "9040c8680daa8920",
   "outputs": [],
   "execution_count": null
  }
 ],
 "metadata": {
  "kernelspec": {
   "display_name": "Python 3",
   "language": "python",
   "name": "python3"
  },
  "language_info": {
   "codemirror_mode": {
    "name": "ipython",
    "version": 2
   },
   "file_extension": ".py",
   "mimetype": "text/x-python",
   "name": "python",
   "nbconvert_exporter": "python",
   "pygments_lexer": "ipython2",
   "version": "2.7.6"
  }
 },
 "nbformat": 4,
 "nbformat_minor": 5
}
