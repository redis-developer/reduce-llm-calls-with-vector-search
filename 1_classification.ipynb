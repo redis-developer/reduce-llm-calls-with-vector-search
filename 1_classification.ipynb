{
 "cells": [
  {
   "metadata": {},
   "cell_type": "markdown",
   "source": [
    "# Semantic Classification\n",
    "\n",
    "Semantic classification is a machine learning technique that categorizes text based on its meaning using vector embeddings and similarity matching. This approach offers a compelling alternative to using large language models (LLMs) for classification tasks.\n",
    "\n",
    "## Semantic Classification vs. LLM Classification\n",
    "\n",
    "**LLM-based classification** involves sending text to models like GPT-4 or Claude with prompts asking them to categorize content. While powerful, this approach has several limitations:\n",
    "- **Cost**: API calls for every classification can be expensive at scale\n",
    "- **Latency**: Network requests and model inference add delay\n",
    "\n",
    "**Semantic classification** uses vector embeddings to represent text meaning numerically, then applies similarity thresholds to determine categories:\n",
    "- **Speed**: Near-instantaneous vector similarity calculations\n",
    "- **Cost-effective**: No API costs after initial setup\n",
    "\n",
    "## How It Works\n",
    "\n",
    "Text is converted into high-dimensional vectors that capture semantic meaning. Reference examples for each category are embedded, and new content is classified by measuring vector similarity. Content that falls within a defined distance threshold of category references gets classified accordingly.\n",
    "\n",
    "In this notebook, we'll build a semantic classifier using RedisVL to identify AI-related content, demonstrating an efficient alternative to LLM-based classification."
   ],
   "id": "8a77807f92f26ee"
  },
  {
   "metadata": {},
   "cell_type": "markdown",
   "source": [
    "## Installing dependencies\n",
    "\n",
    "We'll need two main libraries for this semantic classification example:\n",
    "\n",
    "**RedisVL** - A Python library that provides vector database capabilities and semantic routing functionality on top of Redis. RedisVL handles the vector storage, similarity search, and routing logic that powers our semantic classifier.\n",
    "\n",
    "**HuggingFace Sentence Transformers** - A library that provides pre-trained models for converting text into high-quality sentence embeddings. These models have been specifically trained to capture semantic meaning, making them ideal for similarity-based classification tasks.\n",
    "\n",
    "The sentence transformers library will automatically download the embedding model on first use. We're using a lightweight model (`all-MiniLM-L6-v2`) that provides good performance while being fast enough for real-time classification."
   ],
   "id": "82b24c4a4eaaae39"
  },
  {
   "metadata": {
    "ExecuteTime": {
     "end_time": "2025-10-07T06:28:10.154200Z",
     "start_time": "2025-10-07T06:28:08.802484Z"
    }
   },
   "cell_type": "code",
   "source": "%pip install -q \"redisvl>=0.8.2\" sentence-transformers",
   "id": "86fec7b4712989b1",
   "outputs": [
    {
     "name": "stdout",
     "output_type": "stream",
     "text": [
      "Note: you may need to restart the kernel to use updated packages.\n"
     ]
    }
   ],
   "execution_count": 1
  },
  {
   "metadata": {},
   "cell_type": "markdown",
   "source": [
    "## Setting up the Text Vectorizer\n",
    "\n",
    "The vectorizer is responsible for converting text into numerical vector representations that capture semantic meaning. RedisVL provides several vectorizer options such as OpenAI and VertexAI. We're using the HuggingFace Text Vectorizer for this example."
   ],
   "id": "ee7abbc80d755da4"
  },
  {
   "metadata": {
    "ExecuteTime": {
     "end_time": "2025-10-07T06:28:21.448678Z",
     "start_time": "2025-10-07T06:28:13.326745Z"
    }
   },
   "cell_type": "code",
   "source": [
    "from redisvl.utils.vectorize import HFTextVectorizer\n",
    "\n",
    "vectorizer = HFTextVectorizer()"
   ],
   "id": "d900d6358fe7ca6",
   "outputs": [
    {
     "name": "stderr",
     "output_type": "stream",
     "text": [
      "/Users/raphaeldelio/reduce-llm-calls-with-vector-search/.venv/lib/python3.13/site-packages/tqdm/auto.py:21: TqdmWarning: IProgress not found. Please update jupyter and ipywidgets. See https://ipywidgets.readthedocs.io/en/stable/user_install.html\n",
      "  from .autonotebook import tqdm as notebook_tqdm\n"
     ]
    },
    {
     "name": "stdout",
     "output_type": "stream",
     "text": [
      "08:28:17 numexpr.utils INFO   NumExpr defaulting to 11 threads.\n",
      "08:28:19 sentence_transformers.SentenceTransformer INFO   Use pytorch device_name: mps\n",
      "08:28:19 sentence_transformers.SentenceTransformer INFO   Load pretrained SentenceTransformer: sentence-transformers/all-mpnet-base-v2\n"
     ]
    }
   ],
   "execution_count": 2
  },
  {
   "metadata": {},
   "cell_type": "markdown",
   "source": [
    "## Loading references\n",
    "In this recipe, we're trying to classify posts that are related to artificial intelligence. In order to do so, we will vectorize a couple of hundred examples that have been previously generated for us."
   ],
   "id": "87893b010bba1c93"
  },
  {
   "metadata": {
    "ExecuteTime": {
     "end_time": "2025-10-07T06:28:23.630025Z",
     "start_time": "2025-10-07T06:28:23.624723Z"
    }
   },
   "cell_type": "code",
   "source": [
    "with open('1_references.txt', 'r') as file:\n",
    "    artificial_intelligence_references = [line.strip() for line in file.readlines()]\n",
    "\n",
    "artificial_intelligence_references[:10]"
   ],
   "id": "143b03c226862dfe",
   "outputs": [
    {
     "data": {
      "text/plain": [
       "['Just realized that attention mechanisms in transformers are basically learning to focus like humans do when reading',\n",
       " 'My grandmother can now video call her grandkids thanks to real-time translation AI and honestly it makes me emotional',\n",
       " 'The fact that GPT can write code but still struggles with basic arithmetic tells you everything about how these models work',\n",
       " 'Spent three hours debugging my PyTorch model only to realize I forgot to set it to training mode',\n",
       " 'Is it just me or does every AI ethics paper end with \"more research is needed\" without proposing actual solutions',\n",
       " 'OpenAI\\'s latest model can generate images from text but my autocorrect still thinks \"definately\" is a word',\n",
       " \"The attention weights in my transformer model look like abstract art and I'm not sure if that's good or bad\",\n",
       " \"Teaching my kids about AI feels like preparing them for a world I can't even imagine\",\n",
       " 'Diffusion models are basically learning to remove noise step by step which is oddly therapeutic to think about',\n",
       " 'Why do we call it artificial intelligence when most of it is just really good pattern matching']"
      ]
     },
     "execution_count": 3,
     "metadata": {},
     "output_type": "execute_result"
    }
   ],
   "execution_count": 3
  },
  {
   "metadata": {},
   "cell_type": "markdown",
   "source": [
    "## Creating a route\n",
    "\n",
    "Now, let's create a route. A route is a classification category that defines what types of content should be grouped together based on semantic similarity. Each route contains:\n",
    "\n",
    "- **Reference examples**: Sample text that represents the category you want to classify\n",
    "- **Distance threshold**: How similar new text must be to the references to match the route\n",
    "- **Route name**: An identifier for this classification category"
   ],
   "id": "34ecf23ce50168bd"
  },
  {
   "metadata": {
    "ExecuteTime": {
     "end_time": "2025-10-07T06:28:26.385131Z",
     "start_time": "2025-10-07T06:28:26.366872Z"
    }
   },
   "cell_type": "code",
   "source": [
    "from redisvl.extensions.router import Route, SemanticRouter\n",
    "\n",
    "artificial_intelligence_route = Route(\n",
    "    name=\"artificial_intelligence_references\",\n",
    "    references=artificial_intelligence_references,\n",
    "    distance_threshold=0.7\n",
    ")"
   ],
   "id": "4aef3e7b4b0c369d",
   "outputs": [],
   "execution_count": 4
  },
  {
   "metadata": {},
   "cell_type": "markdown",
   "source": [
    "## Creating the Semantic Router\n",
    "\n",
    "The SemanticRouter is the central component that orchestrates the classification process. It combines your routes, vectorizer, and Redis storage to provide fast semantic classification capabilities.\n"
   ],
   "id": "70b6b89e758a489d"
  },
  {
   "metadata": {
    "ExecuteTime": {
     "end_time": "2025-10-07T06:28:54.182849Z",
     "start_time": "2025-10-07T06:28:53.110585Z"
    }
   },
   "cell_type": "code",
   "source": [
    "classifier_router = SemanticRouter(\n",
    "    name=\"classifier2\",\n",
    "    vectorizer=vectorizer,\n",
    "    routes=[artificial_intelligence_route],\n",
    "    overwrite=False,\n",
    ")"
   ],
   "id": "a9513eec816e77a9",
   "outputs": [],
   "execution_count": 9
  },
  {
   "metadata": {},
   "cell_type": "markdown",
   "source": "## Testing our semantic classification solution",
   "id": "1f1f6d42ee4ea4dd"
  },
  {
   "metadata": {
    "ExecuteTime": {
     "end_time": "2025-10-07T06:28:55.397931Z",
     "start_time": "2025-10-07T06:28:55.377027Z"
    }
   },
   "cell_type": "code",
   "source": [
    "user_query = \"Redis is a great tool for building applied AI systems because it works well as agent memory\"\n",
    "\n",
    "route_match = classifier_router(user_query)\n",
    "\n",
    "route_match"
   ],
   "id": "8ee6ac87c26a09d1",
   "outputs": [
    {
     "data": {
      "text/plain": [
       "RouteMatch(name='artificial_intelligence_references', distance=0.606297831982)"
      ]
     },
     "execution_count": 10,
     "metadata": {},
     "output_type": "execute_result"
    }
   ],
   "execution_count": 10
  },
  {
   "metadata": {
    "ExecuteTime": {
     "end_time": "2025-10-07T06:28:57.217206Z",
     "start_time": "2025-10-07T06:28:57.146127Z"
    }
   },
   "cell_type": "code",
   "source": [
    "user_query = \"Bavaria is a nice place to visit\"\n",
    "\n",
    "route_match = classifier_router(user_query)\n",
    "\n",
    "route_match"
   ],
   "id": "9040c8680daa8920",
   "outputs": [
    {
     "data": {
      "text/plain": [
       "RouteMatch(name=None, distance=None)"
      ]
     },
     "execution_count": 11,
     "metadata": {},
     "output_type": "execute_result"
    }
   ],
   "execution_count": 11
  }
 ],
 "metadata": {
  "kernelspec": {
   "display_name": "Python 3",
   "language": "python",
   "name": "python3"
  },
  "language_info": {
   "codemirror_mode": {
    "name": "ipython",
    "version": 2
   },
   "file_extension": ".py",
   "mimetype": "text/x-python",
   "name": "python",
   "nbconvert_exporter": "python",
   "pygments_lexer": "ipython2",
   "version": "2.7.6"
  }
 },
 "nbformat": 4,
 "nbformat_minor": 5
}
